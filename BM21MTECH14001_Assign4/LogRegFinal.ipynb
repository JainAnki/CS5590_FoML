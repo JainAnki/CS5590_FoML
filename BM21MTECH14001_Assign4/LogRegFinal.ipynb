{
  "nbformat": 4,
  "nbformat_minor": 0,
  "metadata": {
    "colab": {
      "name": "LogReg1.ipynb",
      "provenance": [],
      "collapsed_sections": []
    },
    "kernelspec": {
      "name": "python3",
      "display_name": "Python 3"
    },
    "language_info": {
      "name": "python"
    }
  },
  "cells": [
    {
      "cell_type": "markdown",
      "metadata": {
        "id": "MkIvwJ960i6F"
      },
      "source": [
        "# Implementation of Logistic Regression with L2 Regularization"
      ]
    },
    {
      "cell_type": "code",
      "metadata": {
        "id": "LhQupo2d8FAQ"
      },
      "source": [
        "import numpy as np\n",
        "from sklearn.metrics import classification_report\n",
        "import matplotlib.pyplot as plt"
      ],
      "execution_count": 33,
      "outputs": []
    },
    {
      "cell_type": "code",
      "metadata": {
        "id": "scid6ENZ8-D6"
      },
      "source": [
        "X_train = [[0.346,0.780], [0.303,0.439],[0.358,0.729],[0.602,0.863],[0.790,0.753],[0.611,0.965]]\n",
        "y_train = [0,0,0,1,1,1]\n",
        "\n",
        "X_test = [[0.959,0.382], [0.750,0.306], [0.395,0.760], [0.823,0.764], [0.761,0.874], [0.844,0.435]]\n",
        "y_test = [0,0,0,1,1,1]\n",
        "\n",
        "X_train = np.array(X_train)\n",
        "y_train = np.array(y_train)\n",
        "X_test = np.array(X_test)\n",
        "y_test = np.array(y_test)\n"
      ],
      "execution_count": 34,
      "outputs": []
    },
    {
      "cell_type": "code",
      "metadata": {
        "id": "kEvE3y9J8Mx5"
      },
      "source": [
        "def sigmoid(z):\n",
        "    return 1.0/(1 + np.exp(-z))\n",
        "\n",
        "def loss(y, y_hat, W, lambda1):\n",
        "    loss = -np.mean(y*(np.log(y_hat)) + (1-y)*np.log(1-y_hat))+ np.mean(lambda1/(2) * np.dot(W,W))\n",
        "\n",
        "    return loss\n",
        "\n",
        "def gradients(X, y, y_hat,w, lambda1):\n",
        "\n",
        "    # m-> number of training examples.\n",
        "    m = X.shape[0]\n",
        "    \n",
        "    # Gradient of loss w.r.t weights.\n",
        "    dw = (1/m)*np.dot(X.T, (y_hat - y))+ (1/m)*(lambda1*w)\n",
        "    \n",
        "    # Gradient of loss w.r.t bias.\n",
        "    db = (1/m)*np.sum((y_hat - y)) \n",
        "    \n",
        "    return dw, db\n",
        "\n",
        "def plot_decision_boundary(X, y, w, b):\n",
        "\n",
        "    x1 = [min(X[:,0]), max(X[:,0])]\n",
        "    m = -w[0]/w[1]\n",
        "    c = -b/w[1]\n",
        "    x2 =np.multiply(x1,m) + c\n",
        "    \n",
        "    # Plotting\n",
        "    fig = plt.figure\n",
        "    \n",
        "    plt.plot(X[:, 0][y==0], X[:, 1][y==0], \"g^\")\n",
        "    plt.plot(X[:, 0][y==1], X[:, 1][y==1], \"bs\")\n",
        "\n",
        "    plt.xlabel(\"x1\")\n",
        "    plt.ylabel(\"x2\")\n",
        "    plt.title('Decision Boundary')   \n",
        "    plt.plot(x1, x2, 'y-')\n"
      ],
      "execution_count": 35,
      "outputs": []
    },
    {
      "cell_type": "code",
      "metadata": {
        "id": "v9gZSw1M8igR"
      },
      "source": [
        "def train(X, y, epochs, lr):\n",
        " \n",
        "    m, n = X.shape\n",
        "    \n",
        "    # Initializing weights and bias.\n",
        "    w = np.array([1.5,0.5])\n",
        "    b = -1\n",
        "    \n",
        "    # Empty list to store losses.\n",
        "    losses = []\n",
        "    # Training loop.\n",
        "    for epoch in range(epochs):\n",
        "        for i in range(m):\n",
        "            xb = X[i]\n",
        "            yb = y[i]\n",
        "            # Calculating hypothesis/prediction.\n",
        "            y_hat = sigmoid(np.dot(xb, w) + b)\n",
        "            \n",
        "            # Getting the gradients of loss w.r.t parameters.\n",
        "            dw, db = gradients(xb, yb, y_hat,w,0.1)\n",
        "            \n",
        "            # Updating the parameters.\n",
        "            w = w- lr*dw\n",
        "            b = b- lr*db\n",
        "            #print('The logistic model P(y=1|x1,x2) is: ',y_hat)\n",
        "            #print('The updated value of w,b is: ')\n",
        "            #print(w,b)\n",
        "        # Calculating loss and appending it in the list.\n",
        "        l = loss(y, sigmoid(np.dot(X, w) + b),w, 0.1)\n",
        "        losses.append(l)\n",
        "        if epoch == 1:\n",
        "          print(\"Solution to 5b(i)\")\n",
        "          print('The updated value of w,b at the end of the epoch is:  \\n',w,b)\n",
        "          print(\"\\n\\n Solution to 5b(ii)\")\n",
        "          print('The logistic model P(y=1|x1,x2) is: \\n', y_hat)\n",
        "          print(\"Corresponding cross entropy function = \\n\",l)\n",
        "        if(epoch%(epochs/10) == 0):\n",
        "          print(\"Cost after\", epoch, \"epoch is: \", l)\n",
        "    # returning weights, bias and losses(List).\n",
        "    return w, b, losses   "
      ],
      "execution_count": 36,
      "outputs": []
    },
    {
      "cell_type": "code",
      "metadata": {
        "id": "fDMPE3Eo8oSw"
      },
      "source": [
        "def predict(X):\n",
        "    \n",
        "    # Calculating presictions/y_hat.\n",
        "    preds = sigmoid(np.dot(X, w) + b)\n",
        "    \n",
        "    # Empty List to store predictions.\n",
        "    pred_class = []    \n",
        "    # if y_hat >= 0.5 --> round up to 1\n",
        "    # if y_hat < 0.5 --> round up to 1\n",
        "    pred_class = [1 if i > 0.5 else 0 for i in preds]\n",
        "    \n",
        "    return np.array(pred_class)"
      ],
      "execution_count": 37,
      "outputs": []
    },
    {
      "cell_type": "code",
      "metadata": {
        "colab": {
          "base_uri": "https://localhost:8080/",
          "height": 646
        },
        "id": "Ehs00TWd8qs6",
        "outputId": "83bfb026-6ebc-4404-c0fc-03ea7304e7e7"
      },
      "source": [
        "# Training \n",
        "w, b, l = train(X_train, y_train, epochs=25000, lr=0.1)# Plotting Decision Boundary\n",
        "plt.plot(np.arange(25000),l)"
      ],
      "execution_count": 38,
      "outputs": [
        {
          "output_type": "stream",
          "name": "stdout",
          "text": [
            "Cost after 0 epoch is:  0.6793333930895056\n",
            "Solution to 5b(i)\n",
            "The updated value of w,b at the end of the epoch is:  \n",
            " [1.45104757 0.49269336] -1.0073819919017042\n",
            "\n",
            "\n",
            " Solution to 5b(ii)\n",
            "The logistic model P(y=1|x1,x2) is: \n",
            " 0.577540312892111\n",
            "Corresponding cross entropy function = \n",
            " 0.6770734435545663\n",
            "Cost after 2500 epoch is:  0.6502117844648301\n",
            "Cost after 5000 epoch is:  0.6502117844648301\n",
            "Cost after 7500 epoch is:  0.6502117844648301\n",
            "Cost after 10000 epoch is:  0.6502117844648301\n",
            "Cost after 12500 epoch is:  0.6502117844648301\n",
            "Cost after 15000 epoch is:  0.6502117844648301\n",
            "Cost after 17500 epoch is:  0.6502117844648301\n",
            "Cost after 20000 epoch is:  0.6502117844648301\n",
            "Cost after 22500 epoch is:  0.6502117844648301\n"
          ]
        },
        {
          "output_type": "execute_result",
          "data": {
            "text/plain": [
              "[<matplotlib.lines.Line2D at 0x7ff0cae9a510>]"
            ]
          },
          "metadata": {},
          "execution_count": 38
        },
        {
          "output_type": "display_data",
          "data": {
            "image/png": "[encoded data removed]",
            "text/plain": [
              "<Figure size 432x288 with 1 Axes>"
            ]
          },
          "metadata": {
            "needs_background": "light"
          }
        }
      ]
    },
    {
      "cell_type": "code",
      "metadata": {
        "id": "P9EtiuzfPNfs",
        "colab": {
          "base_uri": "https://localhost:8080/",
          "height": 295
        },
        "outputId": "768d7a8e-c6c6-412c-ea06-a10d52a27109"
      },
      "source": [
        "plot_decision_boundary(X_train, y_train, w, b)"
      ],
      "execution_count": 39,
      "outputs": [
        {
          "output_type": "display_data",
          "data": {
            "image/png": "[encoded data removed]",
            "text/plain": [
              "<Figure size 432x288 with 1 Axes>"
            ]
          },
          "metadata": {
            "needs_background": "light"
          }
        }
      ]
    },
    {
      "cell_type": "code",
      "metadata": {
        "colab": {
          "base_uri": "https://localhost:8080/"
        },
        "id": "Ix6uK-6e_g3r",
        "outputId": "454e4928-66dd-4cf4-c796-4a647f933dd2"
      },
      "source": [
        "tp = sum((y_test == 1) & (predict(X_test) == 1))\n",
        "tn = sum((y_test == 0) & (predict(X_test) == 0))\n",
        "fn = sum((y_test == 1) & (predict(X_test) == 0))\n",
        "fp = sum((y_test == 0) & (predict(X_test) == 1))\n",
        "print('\\n\\n The solution to 5b(iii) \\n')\n",
        "accuracy = ((tp + tn) * 100)/ float( tp + tn + fn + fp)\n",
        "precision = (tp  * 100)/ float( tp + fp)\n",
        "recall = (tp  * 100)/ float( tp + fn)\n",
        "print('Accuracy: ', accuracy)\n",
        "print('Precision: ', precision)\n",
        "print('Recall:  ', recall)"
      ],
      "execution_count": 40,
      "outputs": [
        {
          "output_type": "stream",
          "name": "stdout",
          "text": [
            "\n",
            "\n",
            " The solution to 5b(iii) \n",
            "\n",
            "Accuracy:  66.66666666666667\n",
            "Precision:  60.0\n",
            "Recall:   100.0\n"
          ]
        }
      ]
    },
    {
      "cell_type": "code",
      "metadata": {
        "colab": {
          "base_uri": "https://localhost:8080/",
          "height": 295
        },
        "id": "pYOAGKbsDRS3",
        "outputId": "1d2fe278-077d-4820-8197-3de2e1ff9fa7"
      },
      "source": [
        "plot_decision_boundary(X_test, y_test, w, b)"
      ],
      "execution_count": 41,
      "outputs": [
        {
          "output_type": "display_data",
          "data": {
            "image/png": "[encoded data removed]",
            "text/plain": [
              "<Figure size 432x288 with 1 Axes>"
            ]
          },
          "metadata": {
            "needs_background": "light"
          }
        }
      ]
    }
  ]
}