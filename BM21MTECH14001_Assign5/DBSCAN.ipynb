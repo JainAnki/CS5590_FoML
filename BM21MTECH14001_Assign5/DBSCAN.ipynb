{
 "cells": [
  {
   "cell_type": "markdown",
   "metadata": {},
   "source": [
    "# 1. Clustering"
   ]
  },
  {
   "cell_type": "code",
   "execution_count": null,
   "metadata": {
    "id": "Gy-myrDr7qTP"
   },
   "outputs": [],
   "source": [
    "import numpy as np\n",
    "from sklearn import datasets\n",
    "from sklearn.preprocessing import StandardScaler\n",
    "from itertools import cycle, islice\n",
    "import matplotlib.pyplot as plt\n",
    "import queue\n",
    "import pandas as pd\n",
    "from sklearn.cluster import KMeans\n",
    "from sklearn.neighbors import NearestNeighbors"
   ]
  },
  {
   "cell_type": "code",
   "execution_count": null,
   "metadata": {
    "id": "PkIQFsGqONBC"
   },
   "outputs": [],
   "source": [
    "# Reading from the data file\n",
    "df = pd.read_csv(\"/content/dataset1.txt\", header = None)\n",
    "df.columns = [\"data\"]\n",
    "df = df.join(df['data'].str.split(' ', expand = True).rename(columns = {0:'daata', 1:'x1', 2:'x2'}))\n",
    "del df['data']\n",
    "df.columns = ['x1', 'x2']\n",
    "dataset = df.astype(float).values.tolist()\n",
    "X1 = StandardScaler().fit_transform(dataset)\n",
    "\n",
    "df = pd.read_csv(\"/content/dataset2.txt\", header = None)\n",
    "df.columns = [\"data\"]\n",
    "df = df.join(df['data'].str.split(' ', expand = True).rename(columns = {0:'daata', 1:'x1', 2:'x2'}))\n",
    "del df['data']\n",
    "df.columns = ['x1', 'x2']\n",
    "dataset = df.astype(float).values.tolist()\n",
    "# normalize dataset\n",
    "X2 = StandardScaler().fit_transform(dataset)"
   ]
  },
  {
   "cell_type": "markdown",
   "metadata": {
    "id": "xNXwVrTQOrtf"
   },
   "source": [
    "## 1a Implementing Kmeans clustering on dataset1"
   ]
  },
  {
   "cell_type": "code",
   "execution_count": null,
   "metadata": {
    "colab": {
     "base_uri": "https://localhost:8080/",
     "height": 445
    },
    "id": "cv8h2LaGN8Wi",
    "outputId": "0f5d9e05-1ee6-4295-bab7-ef8607603ce9"
   },
   "outputs": [
    {
     "data": {
      "text/plain": [
       "<matplotlib.legend.Legend at 0x7f002f990f50>"
      ]
     },
     "execution_count": 52,
     "metadata": {},
     "output_type": "execute_result"
    },
    {
     "data": {
      "image/png": "[encoded data removed]",
      "text/plain": [
       "<Figure size 720x504 with 1 Axes>"
      ]
     },
     "metadata": {
      "needs_background": "light"
     },
     "output_type": "display_data"
    }
   ],
   "source": [
    "clustering = KMeans(3).fit(X1)\n",
    "\n",
    "plt.figure(figsize=(10,7))\n",
    "for clust in np.unique(clustering.labels_):\n",
    "    plt.scatter(X1[clustering.labels_ == clust, 0], X1[clustering.labels_ == clust, 1], s=10, label=f\"Cluster{clust}\")\n",
    "\n",
    "plt.legend([f\"Cluster {clust}\" for clust in np.unique(clustering.labels_)], loc =\"lower right\")\n"
   ]
  },
  {
   "cell_type": "markdown",
   "metadata": {
    "id": "Ry_CFsgWPsZI"
   },
   "source": [
    "## 1b Implementing DBSCAN from scratch"
   ]
  },
  {
   "cell_type": "code",
   "execution_count": null,
   "metadata": {
    "id": "HwgWxpBw7XoX"
   },
   "outputs": [],
   "source": [
    "class DBSCAN_Scratch():\n",
    "    def __init__(self):\n",
    "        self.core = -1\n",
    "        self.border = -2\n",
    "\n",
    "    # Find all neighbour points at epsilon distance\n",
    "    def find_neighbours(self, data, pointIdx, eps):\n",
    "        points = []\n",
    "        for i in range(len(data)):\n",
    "            # Euclidian distance\n",
    "            if np.linalg.norm([a_i - b_i for a_i, b_i in zip(data[i], data[pointIdx])]) <= eps:\n",
    "                points.append(i)\n",
    "        return points\n",
    "\n",
    "    # Fit the data into the DBSCAN model\n",
    "    def fit(self, data, eps, minNumberPt):\n",
    "        # initialize all points as outliers\n",
    "        point_label = [0] * len(data)\n",
    "        point_count = []\n",
    "\n",
    "        # initilize list for core/border points\n",
    "        core = []\n",
    "        border = []\n",
    "\n",
    "        # Find the neighbours of each individual point\n",
    "        for i in range(len(data)):\n",
    "            point_count.append(self.find_neighbours(data, i, eps))\n",
    "\n",
    "        # Find all the core points, border points and outliers\n",
    "        for i in range(len(point_count)):\n",
    "            if (len(point_count[i]) >= minNumberPt):\n",
    "                point_label[i] = self.core\n",
    "                core.append(i)\n",
    "            else:\n",
    "                border.append(i)\n",
    "        for i in border:\n",
    "            for j in point_count[i]:\n",
    "                if j in core:\n",
    "                    point_label[i] = self.border\n",
    "                    break\n",
    "\n",
    "        # Assign points to a cluster\n",
    "\n",
    "        cluster = 1\n",
    "\n",
    "        # Here we use a queue to find all the neighbourhood points of a core point and find the indirectly reachable points\n",
    "        # We are essentially performing Breadth First search of all points which are within Epsilon distance for each other\n",
    "        for i in range(len(point_label)):\n",
    "            q = queue.Queue()\n",
    "            if (point_label[i] == self.core):\n",
    "                point_label[i] = cluster\n",
    "                for x in point_count[i]:\n",
    "                    if(point_label[x] == self.core):\n",
    "                        q.put(x)\n",
    "                        point_label[x] = cluster\n",
    "                    elif(point_label[x] == self.border):\n",
    "                        point_label[x] = cluster\n",
    "                while not q.empty():\n",
    "                    neighbors = point_count[q.get()]\n",
    "                    for y in neighbors:\n",
    "                        if (point_label[y] == self.core):\n",
    "                            point_label[y] = cluster\n",
    "                            q.put(y)\n",
    "                        if (point_label[y] == self.border):\n",
    "                            point_label[y] = cluster\n",
    "                cluster += 1  # Move on to the next cluster\n",
    "\n",
    "        return point_label, cluster\n",
    "\n",
    "    # Visualize the clusters\n",
    "    def plotData(self, data, cluster, numberOfClusters):\n",
    "        N = len(data)\n",
    "\n",
    "        colors = np.array(list(islice(cycle(['#FE4A49', '#2AB7CA']), 3)))\n",
    "\n",
    "        for i in range(numberOfClusters):\n",
    "            if (i == 0):\n",
    "                # Plot all outliers point as black\n",
    "                color = '#000000'\n",
    "            else:\n",
    "                color = colors[i % len(colors)]\n",
    "\n",
    "            x, y = [], []\n",
    "            for j in range(N):\n",
    "                if cluster[j] == i:\n",
    "                    x.append(data[j, 0])\n",
    "                    y.append(data[j, 1])\n",
    "            plt.scatter(x, y, c=color, alpha=1, marker='.', label = 'Cluster'+str(i))\n",
    "            plt.legend()\n",
    "        plt.show()\n"
   ]
  },
  {
   "cell_type": "code",
   "execution_count": null,
   "metadata": {
    "colab": {
     "base_uri": "https://localhost:8080/",
     "height": 337
    },
    "id": "xrYfxIkLOTnP",
    "outputId": "bf7f056c-53fa-4cac-fc6b-82ba4b20e162"
   },
   "outputs": [
    {
     "name": "stdout",
     "output_type": "stream",
     "text": [
      "[1, 2, 1, 2, 1, 1, 0, 2, 2, 1, 1, 1, 2, 0, 2, 2, 2, 1, 2, 2, 1, 2, 2, 1, 1, 2, 2, 1, 1, 2, 2, 2, 1, 1, 1, 1, 1, 2, 1, 1, 2, 1, 1, 2, 1, 2, 1, 2, 2, 2, 1, 2, 0, 1, 1, 2, 2, 2, 0, 2, 0, 1, 2, 2, 1, 2, 2, 1, 1, 2, 2, 1, 1, 1, 2, 2, 2, 1, 1, 2, 1, 0, 1, 2, 1, 1, 2, 1, 0, 2, 0, 1, 2, 2, 1, 1, 1, 2, 1, 1, 1, 1, 2, 1, 1, 2, 1, 1, 1, 2, 1, 2, 2, 2, 0, 2, 2, 1, 2, 1, 1, 1, 1, 1, 2, 1, 1, 2, 2, 2, 2, 2, 2, 0, 1, 1, 2, 2, 1, 2, 1, 2, 2, 2, 1, 1, 1, 1, 2, 1, 2, 1, 1, 1, 0, 2, 1, 1, 1, 2, 1, 2, 1, 0, 2, 2, 2, 1, 2, 2, 2, 2, 1, 1, 2, 2, 1, 1, 1, 1, 1, 1, 2, 1, 1, 1, 1, 2, 2, 2, 2, 1, 2, 1, 1, 2, 2, 2, 2, 2, 2, 2, 1, 1, 0, 2, 2, 2, 1, 2, 2, 2, 1, 1, 1, 2, 2, 1, 2, 2, 2, 1, 2, 1, 0, 1, 1, 2, 1, 1, 1, 1, 1, 0, 1, 1, 2, 1, 1, 0, 1, 2, 2, 2, 1, 1, 0, 2, 1, 2, 1, 2, 0, 2, 2, 1, 1, 1, 2, 2, 1, 0, 0, 0, 2, 1, 1, 1, 1, 2, 1, 1, 2, 2, 2, 2, 1, 1, 1, 2, 1, 2, 1, 2, 1, 2, 1, 1, 1, 2, 1, 1, 2, 2, 1, 2, 2, 1, 2, 2, 1, 1, 2, 2, 1, 2, 2, 1, 2, 1, 2, 2, 2, 1, 2, 2, 1, 1, 0, 2, 2, 1, 1, 2, 1, 2, 1, 2, 2, 0, 1, 2, 2, 1, 2, 2, 1, 2, 1, 1, 1, 2, 2, 2, 2, 2, 1, 1, 1, 2, 1, 2, 1, 2, 2, 1, 1, 2, 1, 2, 1, 2, 2, 2, 1, 2, 2, 1, 2, 1, 2, 2, 2, 2, 0, 1, 1, 2, 2, 0, 1, 2, 1, 2, 1, 0, 1, 1, 2, 1, 2, 1, 2, 0, 1, 2, 1, 1, 1, 1, 1, 2, 1, 2, 1, 2, 1, 1, 1, 1, 1, 2, 1, 1, 1, 1, 1, 2, 2, 1, 2, 2, 2, 1, 2, 1, 1, 1, 1, 1, 2, 2, 1, 1, 0, 2, 2, 2, 2, 1, 2, 2, 1, 2, 2, 1, 1, 1, 2, 1, 2, 2, 1, 2, 2, 1, 2, 2, 2, 1, 1, 2, 2, 2, 2, 1, 2, 2, 2, 1, 2, 1, 2, 1, 1, 1, 2, 2, 1, 2, 2, 2, 1, 1, 1, 1, 2, 2, 1, 1, 1, 2, 2, 2, 2, 1, 2, 1, 2, 2]\n",
      "3\n",
      "{0, 1, 2}\n"
     ]
    },
    {
     "data": {
      "image/png": "[encoded data removed]",
      "text/plain": [
       "<Figure size 432x288 with 1 Axes>"
      ]
     },
     "metadata": {
      "needs_background": "light"
     },
     "output_type": "display_data"
    }
   ],
   "source": [
    "DBSCAN_1 = DBSCAN_Scratch()\n",
    "point_labels, clusters = DBSCAN_1.fit(X1, 0.25,20)\n",
    "\n",
    "print(point_labels)\n",
    "print( clusters)\n",
    "print(set(point_labels))\n",
    "\n",
    "DBSCAN_1.plotData(X1, point_labels, clusters)"
   ]
  },
  {
   "cell_type": "markdown",
   "metadata": {
    "id": "FoDh7A6iRL4-"
   },
   "source": [
    "##1c Difference between KMeans and DBSCAN algorithm outputs\n",
    "We see that the clusters formed are different in both the algorithms, this is because:\n",
    "\n",
    "\n",
    "*   KMeans forms clusters that are spherical or convex in shape only while DBSCAN forms clusters arbitrarily (anyshape).\n",
    "*   KMeans cannot detect outliers which have been detected perfectly by the DBSCAN algorithm as the **points in the black coloured cluster**\n",
    "\n"
   ]
  },
  {
   "cell_type": "markdown",
   "metadata": {
    "id": "lOQrEyWERFsJ"
   },
   "source": [
    "## 1d KMeans and DBSCAN on Dataset 2\n",
    "As we see **below** that the clustering of the given datapoints are same in both the algorithms. This is because **the given dataset is trivial thus resulting in the same output as opposed to the first dataset**\n",
    "\n",
    "### Advantages\n",
    "**KMeans:** Much faster than DBSCAN\n",
    "\n",
    "**DBSCAN:**No prior knowledge of the number of clusters required\n",
    "\n",
    "### Disadvantages\n",
    "**KMeans:** Requires an estimate for the number of clusters\n",
    "\n",
    "**DBSCAN:** Does  not work well with higher dimensional data and data with different densities\n"
   ]
  },
  {
   "cell_type": "code",
   "execution_count": null,
   "metadata": {
    "colab": {
     "base_uri": "https://localhost:8080/",
     "height": 445
    },
    "id": "SB2gyd3iOGm-",
    "outputId": "3365209d-44d9-489d-f5dc-66f97a644d70"
   },
   "outputs": [
    {
     "data": {
      "text/plain": [
       "<matplotlib.legend.Legend at 0x7f002f4a0f10>"
      ]
     },
     "execution_count": 55,
     "metadata": {},
     "output_type": "execute_result"
    },
    {
     "data": {
      "image/png": "[encoded data removed]",
      "text/plain": [
       "<Figure size 720x504 with 1 Axes>"
      ]
     },
     "metadata": {
      "needs_background": "light"
     },
     "output_type": "display_data"
    }
   ],
   "source": [
    "clustering = KMeans(3).fit(X2)\n",
    "\n",
    "plt.figure(figsize=(10,7))\n",
    "for clust in np.unique(clustering.labels_):\n",
    "    plt.scatter(X2[clustering.labels_ == clust, 0], X2[clustering.labels_ == clust, 1], s=10, label=f\"Cluster{clust}\")\n",
    "\n",
    "plt.legend([f\"Cluster {clust}\" for clust in np.unique(clustering.labels_)], loc =\"lower right\")\n"
   ]
  },
  {
   "cell_type": "code",
   "execution_count": null,
   "metadata": {
    "colab": {
     "base_uri": "https://localhost:8080/",
     "height": 337
    },
    "id": "oHAcR9JOOW0R",
    "outputId": "1a9731c2-350b-4de1-8cc0-c14c89627318"
   },
   "outputs": [
    {
     "name": "stdout",
     "output_type": "stream",
     "text": [
      "[1, 2, 2, 2, 2, 2, 2, 1, 1, 2, 2, 2, 2, 2, 2, 2, 2, 2, 1, 2, 2, 2, 2, 1, 1, 1, 2, 2, 2, 2, 1, 2, 2, 2, 2, 2, 2, 1, 2, 1, 2, 2, 2, 2, 2, 2, 2, 1, 1, 2, 2, 1, 2, 2, 2, 2, 1, 2, 2, 1, 2, 2, 2, 1, 1, 1, 2, 1, 2, 2, 2, 1, 1, 2, 2, 1, 2, 1, 1, 2, 2, 2, 2, 2, 2, 1, 1, 2, 2, 1, 2, 2, 2, 1, 1, 2, 2, 2, 1, 1, 2, 2, 2, 2, 1, 2, 1, 2, 2, 1, 1, 2, 1, 2, 2, 2, 1, 2, 1, 2, 2, 2, 2, 2, 2, 1, 1, 2, 2, 2, 2, 1, 1, 1, 2, 1, 2, 2, 1, 2, 2, 2, 2, 1, 2, 2, 2, 1, 1, 2, 2, 2, 1, 2, 2, 1, 1, 2, 2, 2, 1, 2, 2, 2, 1, 1, 2, 2, 1, 2, 1, 2, 2, 2, 2, 1, 1, 2, 2, 2, 2, 1, 1, 1, 2, 2, 1, 2, 2, 1, 2, 2, 2, 1, 2, 2, 2, 2, 1, 1, 1, 2, 1, 2, 2, 2, 2, 2, 1, 2, 2, 1, 2, 2, 1, 1, 2, 2, 1, 2, 2, 2, 2, 2, 2, 1, 2, 2, 2, 2, 1, 1, 2, 1, 2, 2, 2, 1, 1, 2, 2, 1, 2, 1, 2, 2, 1, 2, 2, 2, 2, 1, 1, 2, 2, 1, 1, 2, 2, 2, 2, 2, 2, 2, 1, 1, 1, 1, 1, 2, 2, 1, 1, 2, 2, 1, 1, 2, 2, 2, 2, 1, 2, 2, 2, 2, 1, 2, 2, 1, 2, 2, 1, 1, 2, 2, 2, 1, 2, 1, 1, 1, 1, 1, 2, 1, 2, 2, 2, 2, 2, 2, 2, 2, 2, 2, 1, 1, 1, 2, 2, 2, 2, 2, 2, 2, 1, 2, 1, 2, 2, 2, 1, 2, 2, 2, 1, 2, 2, 2, 2, 2, 2, 2, 2, 1, 2, 1, 1, 2, 2, 2, 2, 2, 2, 1, 2, 1, 1, 1, 2, 2, 2, 2, 1, 1, 2, 2, 1, 2, 1, 2, 2, 2, 1, 2, 1, 2, 2, 2, 2, 1, 1, 1, 2, 2, 1, 2, 2, 2, 2, 2, 1, 2, 2, 2, 1, 1, 1, 2, 2, 2, 2, 2, 1, 2, 2, 2, 2, 1, 2, 2, 1, 2, 2, 2, 1, 2, 2, 2, 2, 1, 2, 2, 1, 2, 2, 1, 2, 1, 2, 1, 2, 2, 1, 2, 2, 2, 2, 2, 1, 1, 1, 1, 2, 1, 2, 2, 2, 1, 1, 2, 2, 1, 2, 2, 2, 2, 1, 2, 2, 2, 1, 2, 2, 1, 1, 1, 2, 2, 2, 2, 1, 1, 2, 1, 2, 1, 1, 2, 2, 2, 2, 2, 2, 2, 2, 2, 2, 2, 1, 2, 2, 1, 2, 0, 0, 0, 0, 0]\n",
      "3\n",
      "{0, 1, 2}\n"
     ]
    },
    {
     "data": {
      "image/png": "[encoded data removed]",
      "text/plain": [
       "<Figure size 432x288 with 1 Axes>"
      ]
     },
     "metadata": {
      "needs_background": "light"
     },
     "output_type": "display_data"
    }
   ],
   "source": [
    "DBSCAN_2 = DBSCAN_Scratch()\n",
    "point_labels, clusters = DBSCAN_2.fit(X2, 0.25, 4)\n",
    "\n",
    "print(point_labels)\n",
    "print( clusters)\n",
    "print(set(point_labels))\n",
    "\n",
    "DBSCAN_2.plotData(X2, point_labels, clusters)"
   ]
  }
 ],
 "metadata": {
  "colab": {
   "collapsed_sections": [],
   "name": "DBSCAN.ipynb",
   "provenance": []
  },
  "kernelspec": {
   "display_name": "Python 3 (ipykernel)",
   "language": "python",
   "name": "python3"
  },
  "language_info": {
   "codemirror_mode": {
    "name": "ipython",
    "version": 3
   },
   "file_extension": ".py",
   "mimetype": "text/x-python",
   "name": "python",
   "nbconvert_exporter": "python",
   "pygments_lexer": "ipython3",
   "version": "3.8.8"
  }
 },
 "nbformat": 4,
 "nbformat_minor": 1
}
